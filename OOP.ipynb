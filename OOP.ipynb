{
  "nbformat": 4,
  "nbformat_minor": 0,
  "metadata": {
    "colab": {
      "provenance": [],
      "include_colab_link": true
    },
    "kernelspec": {
      "name": "python3",
      "display_name": "Python 3"
    },
    "language_info": {
      "name": "python"
    }
  },
  "cells": [
    {
      "cell_type": "markdown",
      "metadata": {
        "id": "view-in-github",
        "colab_type": "text"
      },
      "source": [
        "<a href=\"https://colab.research.google.com/github/beymaral/BEYMARAL_car/blob/main/OOP.ipynb\" target=\"_parent\"><img src=\"https://colab.research.google.com/assets/colab-badge.svg\" alt=\"Open In Colab\"/></a>"
      ]
    },
    {
      "cell_type": "markdown",
      "source": [
        "# Inheritance (Наследование)"
      ],
      "metadata": {
        "id": "XoGIzun8GXvg"
      }
    },
    {
      "cell_type": "markdown",
      "source": [
        "'''В языке Python класс может быть создан либо как совершенно новый, либо как «производный» от существующего. Важно отметить, что производный класс наследует члены родительского (базового) класса, от которого он произошел, в дополнение к своим собственным членам.\n",
        "Возможность наследовать члены из базового класса позволяет создавать производные классы, имеющие некоторые общие свойства, которые были определены для базового класса. Например, в базовом классе Polygon (Многоугольник) могут быть определены такие свойства, как ширина и высота, которые являются общими для всех многоугольников. Классы Rectangle (Прямоугольник) и Triangle (Треугольник) могут являться производными от класса Polygon, наследуя его свойства «ширина» и «высота», а также могут иметь свои собственные члены, определяющие уникальные свойства, присущие только им.\n",
        "Чтобы объявить производный класс, нужно после его имени добавить\n",
        "скобки, в которых указать имя родительского класса.'''"
      ],
      "metadata": {
        "id": "ZspMRY7BGdta"
      }
    },
    {
      "cell_type": "code",
      "source": [
        "class Polygon:\n",
        "  width = 0\n",
        "  height = 0\n",
        "  def set_values(self, width, height) :\n",
        "      self.width = width\n",
        "      self.height = height\n",
        "\n",
        "class Rectangle(Polygon):\n",
        "    def area(self):\n",
        "        return self.width * self.height\n",
        "\n",
        "class Triangle(Polygon) :\n",
        "    def area(self):\n",
        "        return(self.width * self.height) / 2\n",
        "\n",
        "rect = Rectangle()\n",
        "trey = Triangle()\n",
        "\n",
        "rect.set_values(4, 5)\n",
        "trey.set_values(4, 5)\n",
        "\n",
        "print('Rectangle Area:', rect.area())\n",
        "print('Triangle Area:', trey.area())"
      ],
      "metadata": {
        "colab": {
          "base_uri": "https://localhost:8080/"
        },
        "id": "7lgrqGmzGXSO",
        "outputId": "79981717-2fa8-471b-faed-7b11c6dd1909"
      },
      "execution_count": 1,
      "outputs": [
        {
          "output_type": "stream",
          "name": "stdout",
          "text": [
            "Rectangle Area: 20\n",
            "Triangle Area: 10.0\n"
          ]
        }
      ]
    },
    {
      "cell_type": "markdown",
      "source": [
        "### Множественное наследование.\n",
        "\n",
        "\n",
        "Когда дочерний класс наследуется от нескольких родительских классов, это называется множественным наследованием.\n",
        "В отличие от Java и C ++, Python поддерживает множественное наследование. Мы указываем все родительские классы в виде списка через запятую в скобках."
      ],
      "metadata": {
        "id": "QLTPBFuvHSWz"
      }
    },
    {
      "cell_type": "code",
      "execution_count": 2,
      "metadata": {
        "id": "zE107f-8GW3Y"
      },
      "outputs": [],
      "source": [
        "class Base1(object):\n",
        "    def __init__(self):\n",
        "        self.str1 = \"Eleven\"\n",
        "        print(\"First Base Class\")\n",
        "\n",
        "\n",
        "class Base2(object):\n",
        "    def __init__(self):\n",
        "        self.str2 = \"Krunal\"\n",
        "        print(\"Second Base Class\")\n",
        "\n",
        "\n",
        "class Derived(Base1, Base2):\n",
        "    def __init__(self):\n",
        "        Base1.__init__(self)\n",
        "        Base2.__init__(self)\n",
        "        print(\"Derived Class\")\n",
        "\n",
        "    def print_data(self):\n",
        "        print(self.str1, self.str2)"
      ]
    },
    {
      "cell_type": "code",
      "source": [
        "obj = Derived() # init 1) base1 2) init Base2 3) print(\"Derived Class\") 4) Print_data -> self.str1, self.str2\n",
        "obj.print_data()"
      ],
      "metadata": {
        "colab": {
          "base_uri": "https://localhost:8080/"
        },
        "id": "f-ULMQhpHdSz",
        "outputId": "c93078e7-6f1e-43b4-a5e3-119621f41378"
      },
      "execution_count": 3,
      "outputs": [
        {
          "output_type": "stream",
          "name": "stdout",
          "text": [
            "First Base Class\n",
            "Second Base Class\n",
            "Derived Class\n",
            "Eleven Krunal\n"
          ]
        }
      ]
    },
    {
      "cell_type": "code",
      "source": [
        "class Animal:\n",
        "  # pass\n",
        "  def make_sound(self):\n",
        "    print(\"Rrrrarr\")\n",
        "class Tiger(Animal):\n",
        "  # pass\n",
        "  def make_sound(self):\n",
        "    print(\"Roar\")\n",
        "class Lynx(Animal):\n",
        "  # pass\n",
        "  def make_sound(self):\n",
        "    print(\"Grrr\")\n",
        "class Cat(Tiger, Lynx):\n",
        "  # pass\n",
        "  def make_sound(self):\n",
        "    print(\"Meow\")"
      ],
      "metadata": {
        "id": "M0rppulaUDCh"
      },
      "execution_count": 13,
      "outputs": []
    },
    {
      "cell_type": "code",
      "source": [
        "Cat.mro() #metis resolution order"
      ],
      "metadata": {
        "colab": {
          "base_uri": "https://localhost:8080/"
        },
        "id": "aBik2bTtVrxL",
        "outputId": "e8236545-15d6-4e77-dfe6-5abed86e985b"
      },
      "execution_count": 14,
      "outputs": [
        {
          "output_type": "execute_result",
          "data": {
            "text/plain": [
              "[__main__.Cat, __main__.Tiger, __main__.Lynx, __main__.Animal, object]"
            ]
          },
          "metadata": {},
          "execution_count": 14
        }
      ]
    },
    {
      "cell_type": "code",
      "source": [
        "cat = Cat()\n",
        "cat.make_sound()"
      ],
      "metadata": {
        "colab": {
          "base_uri": "https://localhost:8080/"
        },
        "id": "oItGca4IU_pk",
        "outputId": "e96a2beb-cb52-41cb-cec4-0b232931eb11"
      },
      "execution_count": 15,
      "outputs": [
        {
          "output_type": "stream",
          "name": "stdout",
          "text": [
            "Meow\n"
          ]
        }
      ]
    },
    {
      "cell_type": "code",
      "source": [
        "\"\"\" \n",
        "  (4) Animal\n",
        "  /        \\\n",
        "(2)Tiger   (3)Lynx\n",
        "  \\        /\n",
        "    (1)Cat  \n",
        "\"\"\""
      ],
      "metadata": {
        "id": "M2iW4GzvWCiW"
      },
      "execution_count": null,
      "outputs": []
    },
    {
      "cell_type": "code",
      "source": [
        "Derived.mro()"
      ],
      "metadata": {
        "colab": {
          "base_uri": "https://localhost:8080/"
        },
        "id": "T0OH0jzKMQbJ",
        "outputId": "ad0fc5e6-cf86-4edd-e88f-ce9cef5aec0e"
      },
      "execution_count": null,
      "outputs": [
        {
          "output_type": "execute_result",
          "data": {
            "text/plain": [
              "[__main__.Derived, __main__.Base1, __main__.Base2, object]"
            ]
          },
          "metadata": {},
          "execution_count": 24
        }
      ]
    },
    {
      "cell_type": "markdown",
      "source": [
        "### Многоуровневое наследование\n",
        "Многоуровневое наследование означает бабушка с дедушкой -> родители -> дети."
      ],
      "metadata": {
        "id": "6JxxGmkjHlBM"
      }
    },
    {
      "cell_type": "code",
      "source": [
        "class GrandParents(object):\n",
        "\n",
        "    # Constructor\n",
        "    def __init__(self, name):\n",
        "        self.name = name\n",
        "\n",
        "    # To get name\n",
        "    def get_name(self):\n",
        "        return self.name\n",
        "\n",
        "\n",
        "# Inherited or SubClass\n",
        "class Parents(GrandParents):\n",
        "\n",
        "    # Constructor\n",
        "    def __init__(self, name, age):\n",
        "        GrandParents.__init__(self, name)\n",
        "        self.age = age\n",
        "\n",
        "    # To get name\n",
        "    def get_age(self):\n",
        "        return self.age\n",
        "\n",
        "\n",
        "# Inherited or SubClass\n",
        "class Children(Parents):\n",
        "\n",
        "    # Constructor\n",
        "    def __init__(self, name, age, address):\n",
        "        Parents.__init__(self, name, age)\n",
        "        self.address = address\n",
        "\n",
        "    # To get address\n",
        "    def get_address(self):\n",
        "        return self.address\n",
        "\n"
      ],
      "metadata": {
        "id": "t2PaDM9tHfo6"
      },
      "execution_count": 16,
      "outputs": []
    },
    {
      "cell_type": "code",
      "source": [
        "g = Children(\"Иван\", 36, \"Бишкек\")\n",
        "print(g.get_name(), g.get_age(), g.get_address())"
      ],
      "metadata": {
        "colab": {
          "base_uri": "https://localhost:8080/"
        },
        "id": "hxgfuYOhHqAj",
        "outputId": "648ffa4e-4ea4-47a5-ea95-8ceae526c176"
      },
      "execution_count": 17,
      "outputs": [
        {
          "output_type": "stream",
          "name": "stdout",
          "text": [
            "Иван 36 Бишкек\n"
          ]
        }
      ]
    },
    {
      "cell_type": "markdown",
      "source": [
        "### Let's practice!"
      ],
      "metadata": {
        "id": "aDDIVoF7H3tJ"
      }
    },
    {
      "cell_type": "code",
      "source": [
        "# Create Employee parent class and inherit SalaryEmployee and HourlyEmployee classes with methods,\n",
        "# which will count their salaries\n",
        "# * Add mixin class"
      ],
      "metadata": {
        "id": "fkBQMGocHvqi"
      },
      "execution_count": null,
      "outputs": []
    },
    {
      "cell_type": "code",
      "source": [
        "from traitlets.config.application import LevelFormatter\n",
        "class Employee:\n",
        "  def __init__(self, name, lastname):\n",
        "    self.name = name\n",
        "    self.lastname = lastname\n",
        "    self.working_period = working_period\n",
        "    self.level = level\n",
        "  \n",
        "  def define_level(self):\n",
        "    if self.working_period is range(3, 6):\n",
        "      self.level +=2\n",
        "    elif self.working_period in range(6, 10):\n",
        "      self.level +=4\n",
        "\n",
        "class SalaryEmployee(Employee):\n",
        "  def __init__(self, name, lastname, salary):\n",
        "    super().__init__(name, lastname)\n",
        "    self.salary = salary\n",
        "\n",
        "class HourlySalary(Employee):\n",
        "  def __init__(self, name, lastname, per_hour, work_time):\n",
        "    super().__init__(name, lastname)\n",
        "    self.salary = self.count_salary(per_hour, work_time)\n",
        "  \n",
        "  def count_salary(self, per_hour, work_time):\n",
        "    return work_time * per_hour\n",
        "  "
      ],
      "metadata": {
        "id": "58fKHZ0YdDto"
      },
      "execution_count": 18,
      "outputs": []
    },
    {
      "cell_type": "code",
      "source": [
        "john = SalaryEmployee(\"John\", \"Snow\", 4000)\n",
        "kyle = HourlySalary(\"Kyle\", \"Brochlovsky\", 25, 82)"
      ],
      "metadata": {
        "id": "kllttJFNgHFJ"
      },
      "execution_count": 19,
      "outputs": []
    },
    {
      "cell_type": "code",
      "source": [
        "john.salary\n"
      ],
      "metadata": {
        "colab": {
          "base_uri": "https://localhost:8080/"
        },
        "id": "3HXGE_IKgw7u",
        "outputId": "a3af7bce-47c7-4dae-a26f-e2af2df10225"
      },
      "execution_count": 22,
      "outputs": [
        {
          "output_type": "execute_result",
          "data": {
            "text/plain": [
              "4000"
            ]
          },
          "metadata": {},
          "execution_count": 22
        }
      ]
    },
    {
      "cell_type": "code",
      "source": [
        "kyle.salary"
      ],
      "metadata": {
        "colab": {
          "base_uri": "https://localhost:8080/"
        },
        "id": "Ycdua73tg34k",
        "outputId": "b442e6ed-efad-4536-a4d4-21ba4b29f3c9"
      },
      "execution_count": 23,
      "outputs": [
        {
          "output_type": "execute_result",
          "data": {
            "text/plain": [
              "2050"
            ]
          },
          "metadata": {},
          "execution_count": 23
        }
      ]
    },
    {
      "cell_type": "markdown",
      "source": [
        "# Polymorphism (Полиморфизм)"
      ],
      "metadata": {
        "id": "D3dFE95YIkp7"
      }
    },
    {
      "cell_type": "markdown",
      "source": [
        "Полиморфизм в объектно-ориентированном программировании – это возможность обработки разных типов данных, т. е. принадлежащих к разным классам, с помощью \"одной и той же\" функции, или метода. На самом деле одинаковым является только имя метода, его исходный код зависит от класса. Кроме того, результаты работы одноименных методов могут существенно различаться. Поэтому в данном контексте под полиморфизмом понимается множество форм одного и того же слова – имени метода.\n",
        "\n",
        "Например, два разных класса содержат метод total, однако инструкции каждого предусматривают совершенно разные операции."
      ],
      "metadata": {
        "id": "rFBTaG3yIpic"
      }
    },
    {
      "cell_type": "code",
      "source": [
        "class T1:\n",
        "\n",
        "   def __init__(self, a, b):\n",
        "     self.a = a\n",
        "     self.b = b\n",
        "\n",
        "   def total(self):\n",
        "       return self.a + self.b\n",
        "\n",
        "\n",
        "class T2:\n",
        "   def __init__(self, string):\n",
        "       self.string = string\n",
        "\n",
        "   def total(self):\n",
        "       return len(self.string)"
      ],
      "metadata": {
        "id": "ihZ8r5s0IjSN"
      },
      "execution_count": null,
      "outputs": []
    },
    {
      "cell_type": "code",
      "source": [
        "t1 = T1(5, 7)\n",
        "t2 = T2(\"hello\")\n",
        "print(t1.total())\n",
        "print(t2.total())"
      ],
      "metadata": {
        "colab": {
          "base_uri": "https://localhost:8080/"
        },
        "id": "PnVuPsTmIyGY",
        "outputId": "aca2a195-0c72-479f-82ff-750d9efcbcd2"
      },
      "execution_count": null,
      "outputs": [
        {
          "output_type": "stream",
          "name": "stdout",
          "text": [
            "12\n",
            "5\n"
          ]
        }
      ]
    },
    {
      "cell_type": "markdown",
      "source": [
        "Полиморфизм дает возможность реализовывать так называемые единые интерфейсы для объектов различных классов. Например, разные классы могут предусматривать различный способ вывода той или иной информации объектов. Однако одинаковое название метода вывода позволит не запутать программу, сделать код более ясным."
      ],
      "metadata": {
        "id": "Dm2ehzjCKYUZ"
      }
    },
    {
      "cell_type": "code",
      "source": [
        "class Cat:\n",
        "    def __init__(self, name, age):\n",
        "        self.name = name\n",
        "        self.age = age\n",
        "\n",
        "    def info(self):\n",
        "        print(f\"I am a cat. My name is {self.name}. I am {self.age} years old.\")\n",
        "\n",
        "    def make_sound(self):\n",
        "        print(\"Meow\")\n",
        "\n",
        "\n",
        "class Dog:\n",
        "    def __init__(self, name, age):\n",
        "        self.name = name\n",
        "        self.age = age\n",
        "\n",
        "    def info(self):\n",
        "        print(f\"I am a dog. My name is {self.name}. I am {self.age} years old.\")\n",
        "\n",
        "    def make_sound(self):\n",
        "        print(\"Bark\")"
      ],
      "metadata": {
        "id": "otEobTmAIzWG"
      },
      "execution_count": null,
      "outputs": []
    },
    {
      "cell_type": "code",
      "source": [
        "\n",
        "cat1 = Cat(\"Kitty\", 2.5)\n",
        "dog1 = Dog(\"Fluffy\", 4)\n",
        "\n",
        "for animal in (cat1, dog1):\n",
        "    animal.make_sound()\n",
        "    animal.info()\n",
        "    animal.make_sound()"
      ],
      "metadata": {
        "colab": {
          "base_uri": "https://localhost:8080/"
        },
        "id": "jG_HD0FMKeH7",
        "outputId": "6847b698-70ea-4b47-ce07-f0581d56b0b8"
      },
      "execution_count": null,
      "outputs": [
        {
          "output_type": "stream",
          "name": "stdout",
          "text": [
            "Meow\n",
            "I am a cat. My name is Kitty. I am 2.5 years old.\n",
            "Meow\n",
            "Bark\n",
            "I am a dog. My name is Fluffy. I am 4 years old.\n",
            "Bark\n"
          ]
        }
      ]
    },
    {
      "cell_type": "markdown",
      "source": [
        "# Инкапсуляция\n",
        "Инкапсуляция — ограничение доступа к составляющим объект компонентам (методам и переменным). Инкапсуляция делает некоторые из компонент доступными только внутри класса.\n",
        "\n",
        "Инкапсуляция в Python работает лишь на уровне соглашения между программистами о том, какие атрибуты являются общедоступными, а какие — внутренними.\n",
        "\n",
        "Одиночное подчеркивание в начале имени атрибута говорит о том, что переменная или метод не предназначен для использования вне методов класса, однако атрибут доступен по этому имени.\n",
        "\n",
        "Python 3 предоставляет 3 уровня доступа к данным:\n",
        "\n",
        "публичный (public, нет особого синтаксиса, publicBanana);\n",
        "защищенный (protected, одно нижнее подчеркивание в начале названия, _protectedBanana);\n",
        "приватный (private, два нижних подчеркивания в начала названия, __privateBanana).\n"
      ],
      "metadata": {
        "id": "G7CEGCSuK63U"
      }
    },
    {
      "cell_type": "code",
      "source": [
        "class A:\n",
        "   def _private(self):\n",
        "       return \"Это приватный метод!\"\n",
        "\n",
        "a = A()\n",
        "print(a._private()) # Это приватный метод!"
      ],
      "metadata": {
        "colab": {
          "base_uri": "https://localhost:8080/"
        },
        "id": "wlpCMPerKg-g",
        "outputId": "22d0f69c-7c4c-47b8-ea27-cf447c061b68"
      },
      "execution_count": 24,
      "outputs": [
        {
          "output_type": "stream",
          "name": "stdout",
          "text": [
            "Это приватный метод!\n"
          ]
        }
      ]
    },
    {
      "cell_type": "code",
      "source": [
        "class B:\n",
        "   def __private(self):\n",
        "       print(\"Это приватный метод!\")\n",
        "\n",
        "b = B()\n",
        "print(b.__private())"
      ],
      "metadata": {
        "colab": {
          "base_uri": "https://localhost:8080/",
          "height": 204
        },
        "id": "ok8DiXZCK_bh",
        "outputId": "a95ed0be-9015-42cb-ffec-9028f111315a"
      },
      "execution_count": 25,
      "outputs": [
        {
          "output_type": "error",
          "ename": "AttributeError",
          "evalue": "ignored",
          "traceback": [
            "\u001b[0;31m---------------------------------------------------------------------------\u001b[0m",
            "\u001b[0;31mAttributeError\u001b[0m                            Traceback (most recent call last)",
            "\u001b[0;32m<ipython-input-25-9c8b90ed1920>\u001b[0m in \u001b[0;36m<module>\u001b[0;34m\u001b[0m\n\u001b[1;32m      4\u001b[0m \u001b[0;34m\u001b[0m\u001b[0m\n\u001b[1;32m      5\u001b[0m \u001b[0mb\u001b[0m \u001b[0;34m=\u001b[0m \u001b[0mB\u001b[0m\u001b[0;34m(\u001b[0m\u001b[0;34m)\u001b[0m\u001b[0;34m\u001b[0m\u001b[0;34m\u001b[0m\u001b[0m\n\u001b[0;32m----> 6\u001b[0;31m \u001b[0mprint\u001b[0m\u001b[0;34m(\u001b[0m\u001b[0mb\u001b[0m\u001b[0;34m.\u001b[0m\u001b[0m__private\u001b[0m\u001b[0;34m(\u001b[0m\u001b[0;34m)\u001b[0m\u001b[0;34m)\u001b[0m\u001b[0;34m\u001b[0m\u001b[0;34m\u001b[0m\u001b[0m\n\u001b[0m",
            "\u001b[0;31mAttributeError\u001b[0m: 'B' object has no attribute '__private'"
          ]
        }
      ]
    },
    {
      "cell_type": "markdown",
      "source": [
        "Однако полностью это не защищает, так как атрибут всё равно остаётся доступным под именем _ИмяКласса__ИмяАтрибута:"
      ],
      "metadata": {
        "id": "9FukW0HxLFJa"
      }
    },
    {
      "cell_type": "code",
      "source": [
        "class B:\n",
        "   def __private(self):\n",
        "       print(\"Это приватный метод!\")\n",
        "\n",
        "b = B()\n",
        "b._B__private() # Это приватный метод!"
      ],
      "metadata": {
        "colab": {
          "base_uri": "https://localhost:8080/"
        },
        "id": "Y9npeNH8LCKJ",
        "outputId": "ba236e30-e30f-46a8-a161-833f2252340f"
      },
      "execution_count": null,
      "outputs": [
        {
          "output_type": "stream",
          "name": "stdout",
          "text": [
            "Это приватный метод!\n"
          ]
        }
      ]
    },
    {
      "cell_type": "markdown",
      "source": [
        "Python3 не обеспечивает ограниченный доступ к каким-либо переменным или методам класса. Данные, которые должны быть скрыты, на самом деле могут быть прочитаны и изменены. В Python3 инкапсуляция является скорее условностью, и программист должен самостоятельно заботиться о ее сохранении."
      ],
      "metadata": {
        "id": "GHwx5ZI-LNVR"
      }
    },
    {
      "cell_type": "markdown",
      "source": [
        "### Let's practice!"
      ],
      "metadata": {
        "id": "y4TDUApZLOlu"
      }
    },
    {
      "cell_type": "code",
      "source": [
        "# Registration with username and user password"
      ],
      "metadata": {
        "id": "vt8rh5H6N6C5"
      },
      "execution_count": null,
      "outputs": []
    },
    {
      "cell_type": "code",
      "source": [
        "# Create parent class Taxi, with children classes YandexTaxi and JorgoTaxi"
      ],
      "metadata": {
        "id": "foGvAEKQLHG2"
      },
      "execution_count": null,
      "outputs": []
    },
    {
      "cell_type": "code",
      "source": [
        "class Taxi():\n",
        "  per_km = 12\n",
        "\n",
        "  def __init__(self, distance, time):\n",
        "    self.posadka = self.__count_posadka(time)\n",
        "    self.cost = self.__count_cost(distance, self.posadka)\n",
        "\n",
        "  def i_am_late(self, minutes):\n",
        "    self.cost += minutes * 5   \n",
        "\n",
        "\n",
        "  def __count_posadka(self, time):\n",
        "    if time in range(8, 11) or time in range(17, 21):\n",
        "      return 170\n",
        "    else:\n",
        "      return 57\n",
        "  def __count_cost(self, distance, posadka):\n",
        "    return posadka + distance * Taxi.per_km\n"
      ],
      "metadata": {
        "id": "lNnfKfeeoIe4"
      },
      "execution_count": 35,
      "outputs": []
    },
    {
      "cell_type": "code",
      "source": [
        "t1 = Taxi(5.5, 19)\n",
        "t1.cost"
      ],
      "metadata": {
        "colab": {
          "base_uri": "https://localhost:8080/"
        },
        "id": "XW8cKoJOozyX",
        "outputId": "a0dd7c8a-c3fc-4fbd-c9e5-396fb1acb0ca"
      },
      "execution_count": 36,
      "outputs": [
        {
          "output_type": "execute_result",
          "data": {
            "text/plain": [
              "236.0"
            ]
          },
          "metadata": {},
          "execution_count": 36
        }
      ]
    },
    {
      "cell_type": "code",
      "source": [
        "t1.i_am_late(13)"
      ],
      "metadata": {
        "id": "6jKeEhfDMMa1"
      },
      "execution_count": 37,
      "outputs": []
    },
    {
      "cell_type": "code",
      "source": [
        "t1.cost \n"
      ],
      "metadata": {
        "colab": {
          "base_uri": "https://localhost:8080/"
        },
        "id": "bJ-l-QNuqouM",
        "outputId": "25132596-d81d-48bb-9dd8-059a1e0de1cd"
      },
      "execution_count": 39,
      "outputs": [
        {
          "output_type": "execute_result",
          "data": {
            "text/plain": [
              "301.0"
            ]
          },
          "metadata": {},
          "execution_count": 39
        }
      ]
    }
  ]
}